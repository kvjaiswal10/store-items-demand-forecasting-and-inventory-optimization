{
 "cells": [
  {
   "cell_type": "markdown",
   "id": "5dee707c",
   "metadata": {},
   "source": [
    "## Model Comparison\n",
    "\n",
    "- lightGBM\n",
    "- Prophet"
   ]
  },
  {
   "cell_type": "code",
   "execution_count": 2,
   "id": "d4bd82a5",
   "metadata": {},
   "outputs": [],
   "source": [
    "# imports\n",
    "\n",
    "import pandas as pd\n",
    "import numpy as np\n",
    "import matplotlib.pyplot as plt\n",
    "import seaborn as sns\n",
    "from sklearn.metrics import mean_squared_log_error\n",
    "from sklearn.model_selection import train_test_split\n",
    "from lightgbm import LGBMRegressor\n",
    "from prophet import Prophet\n",
    "import warnings\n",
    "warnings.filterwarnings(\"ignore\")"
   ]
  },
  {
   "cell_type": "code",
   "execution_count": 3,
   "id": "aae17810",
   "metadata": {},
   "outputs": [
    {
     "name": "stdout",
     "output_type": "stream",
     "text": [
      "Train shape: (913000, 4)\n",
      "Test shape: (45000, 4)\n"
     ]
    },
    {
     "data": {
      "text/html": [
       "<div>\n",
       "<style scoped>\n",
       "    .dataframe tbody tr th:only-of-type {\n",
       "        vertical-align: middle;\n",
       "    }\n",
       "\n",
       "    .dataframe tbody tr th {\n",
       "        vertical-align: top;\n",
       "    }\n",
       "\n",
       "    .dataframe thead th {\n",
       "        text-align: right;\n",
       "    }\n",
       "</style>\n",
       "<table border=\"1\" class=\"dataframe\">\n",
       "  <thead>\n",
       "    <tr style=\"text-align: right;\">\n",
       "      <th></th>\n",
       "      <th>date</th>\n",
       "      <th>store</th>\n",
       "      <th>item</th>\n",
       "      <th>sales</th>\n",
       "    </tr>\n",
       "  </thead>\n",
       "  <tbody>\n",
       "    <tr>\n",
       "      <th>0</th>\n",
       "      <td>2013-01-01</td>\n",
       "      <td>1</td>\n",
       "      <td>1</td>\n",
       "      <td>13</td>\n",
       "    </tr>\n",
       "    <tr>\n",
       "      <th>1</th>\n",
       "      <td>2013-01-02</td>\n",
       "      <td>1</td>\n",
       "      <td>1</td>\n",
       "      <td>11</td>\n",
       "    </tr>\n",
       "    <tr>\n",
       "      <th>2</th>\n",
       "      <td>2013-01-03</td>\n",
       "      <td>1</td>\n",
       "      <td>1</td>\n",
       "      <td>14</td>\n",
       "    </tr>\n",
       "    <tr>\n",
       "      <th>3</th>\n",
       "      <td>2013-01-04</td>\n",
       "      <td>1</td>\n",
       "      <td>1</td>\n",
       "      <td>13</td>\n",
       "    </tr>\n",
       "    <tr>\n",
       "      <th>4</th>\n",
       "      <td>2013-01-05</td>\n",
       "      <td>1</td>\n",
       "      <td>1</td>\n",
       "      <td>10</td>\n",
       "    </tr>\n",
       "  </tbody>\n",
       "</table>\n",
       "</div>"
      ],
      "text/plain": [
       "        date  store  item  sales\n",
       "0 2013-01-01      1     1     13\n",
       "1 2013-01-02      1     1     11\n",
       "2 2013-01-03      1     1     14\n",
       "3 2013-01-04      1     1     13\n",
       "4 2013-01-05      1     1     10"
      ]
     },
     "execution_count": 3,
     "metadata": {},
     "output_type": "execute_result"
    }
   ],
   "source": [
    "# load data\n",
    "train = pd.read_csv(r'C:\\Users\\kvjai\\ML PROJECTS\\Store items demand forecasting\\data\\train.csv', parse_dates=['date'])\n",
    "test = pd.read_csv(r'C:\\Users\\kvjai\\ML PROJECTS\\Store items demand forecasting\\data\\test.csv', parse_dates=['date'])\n",
    "sample_submission = pd.read_csv(r'C:\\Users\\kvjai\\ML PROJECTS\\Store items demand forecasting\\data\\sample_submission.csv')\n",
    "\n",
    "print(\"Train shape:\", train.shape)\n",
    "print(\"Test shape:\", test.shape)\n",
    "train.head()"
   ]
  },
  {
   "cell_type": "markdown",
   "id": "584bd09a",
   "metadata": {},
   "source": [
    "## Baseline model\n",
    "mean per (store, item)"
   ]
  },
  {
   "cell_type": "code",
   "execution_count": 4,
   "id": "8360c143",
   "metadata": {},
   "outputs": [
    {
     "name": "stdout",
     "output_type": "stream",
     "text": [
      "📉 Baseline RMSLE: 0.24273\n"
     ]
    }
   ],
   "source": [
    "# Time-based validation (last 3 months as validation)\n",
    "cutoff_date = \"2017-10-01\"\n",
    "train_baseline = train[train[\"date\"] < cutoff_date]\n",
    "val_baseline   = train[train[\"date\"] >= cutoff_date]\n",
    "\n",
    "# Mean sales per (store, item)\n",
    "mean_sales = train_baseline.groupby([\"store\", \"item\"])[\"sales\"].mean()\n",
    "\n",
    "# Predict validation\n",
    "val_preds = val_baseline.set_index([\"store\", \"item\"]).index.map(\n",
    "    lambda idx: mean_sales.get(idx, train_baseline[\"sales\"].mean())\n",
    ")\n",
    "\n",
    "# Evaluate RMSLE\n",
    "y_true = val_baseline[\"sales\"].values\n",
    "y_pred = np.array(val_preds)\n",
    "rmsle_baseline = np.sqrt(mean_squared_log_error(y_true, y_pred))\n",
    "\n",
    "print(f\"📉 Baseline RMSLE: {rmsle_baseline:.5f}\")"
   ]
  },
  {
   "cell_type": "markdown",
   "id": "c684fe7a",
   "metadata": {},
   "source": [
    "## LightGBM model \n",
    "Gradient boosing forecasting"
   ]
  },
  {
   "cell_type": "code",
   "execution_count": 6,
   "id": "a021f24f",
   "metadata": {},
   "outputs": [
    {
     "name": "stdout",
     "output_type": "stream",
     "text": [
      "[LightGBM] [Info] Auto-choosing row-wise multi-threading, the overhead of testing was 0.003734 seconds.\n",
      "You can set `force_row_wise=true` to remove the overhead.\n",
      "And if memory is not enough, you can set `force_col_wise=true`.\n",
      "[LightGBM] [Info] Total Bins 1399\n",
      "[LightGBM] [Info] Number of data points in the train set: 867000, number of used features: 14\n",
      "[LightGBM] [Info] Start training from score 52.121505\n",
      "[100]\tvalid_0's rmse: 7.84808\tvalid_0's l2: 61.5923\n",
      "[200]\tvalid_0's rmse: 7.72601\tvalid_0's l2: 59.6912\n",
      "[300]\tvalid_0's rmse: 7.6818\tvalid_0's l2: 59.0101\n",
      "[400]\tvalid_0's rmse: 7.65716\tvalid_0's l2: 58.6321\n",
      "[500]\tvalid_0's rmse: 7.64069\tvalid_0's l2: 58.3801\n",
      "[600]\tvalid_0's rmse: 7.62901\tvalid_0's l2: 58.2019\n",
      "[700]\tvalid_0's rmse: 7.62037\tvalid_0's l2: 58.07\n",
      "[800]\tvalid_0's rmse: 7.61607\tvalid_0's l2: 58.0045\n",
      "[900]\tvalid_0's rmse: 7.61122\tvalid_0's l2: 57.9306\n",
      "[1000]\tvalid_0's rmse: 7.60794\tvalid_0's l2: 57.8808\n",
      "[1100]\tvalid_0's rmse: 7.60462\tvalid_0's l2: 57.8302\n",
      "[1200]\tvalid_0's rmse: 7.60238\tvalid_0's l2: 57.7962\n",
      "[1300]\tvalid_0's rmse: 7.60176\tvalid_0's l2: 57.7868\n",
      "[1400]\tvalid_0's rmse: 7.60031\tvalid_0's l2: 57.7646\n",
      "[1500]\tvalid_0's rmse: 7.5999\tvalid_0's l2: 57.7585\n",
      "[1600]\tvalid_0's rmse: 7.59917\tvalid_0's l2: 57.7473\n",
      "[1700]\tvalid_0's rmse: 7.59812\tvalid_0's l2: 57.7314\n",
      "[1800]\tvalid_0's rmse: 7.59705\tvalid_0's l2: 57.7152\n",
      "[1900]\tvalid_0's rmse: 7.59648\tvalid_0's l2: 57.7065\n",
      "[2000]\tvalid_0's rmse: 7.59581\tvalid_0's l2: 57.6964\n",
      "⚡ LightGBM Validation RMSLE: 0.15786\n"
     ]
    }
   ],
   "source": [
    "# --- Feature Engineering ---\n",
    "\n",
    "tr = train.copy(); te = test.copy()\n",
    "tr[\"split\"] = \"train\"; te[\"split\"] = \"test\"\n",
    "df = pd.concat([tr, te], ignore_index=True).sort_values([\"store\", \"item\", \"date\"])\n",
    "df.reset_index(drop=True, inplace=True)\n",
    "\n",
    "# Calendar features\n",
    "dt = df[\"date\"]\n",
    "df[\"dow\"] = dt.dt.dayofweek.astype(\"int8\")\n",
    "df[\"is_weekend\"] = df[\"dow\"].isin([5,6]).astype(\"int8\")\n",
    "df[\"month\"] = dt.dt.month.astype(\"int8\")\n",
    "df[\"year\"] = dt.dt.year.astype(\"int16\")\n",
    "df[\"day\"] = dt.dt.day.astype(\"int8\")\n",
    "df[\"quarter\"] = dt.dt.quarter.astype(\"int8\")\n",
    "\n",
    "# Lag & rolling features\n",
    "g = df.groupby([\"store\",\"item\"], group_keys=False)\n",
    "for L in (1,7,14,28):\n",
    "    df[f\"lag_{L}\"] = g[\"sales\"].shift(L)\n",
    "df[\"roll7\"]  = g[\"sales\"].shift(1).rolling(7,  min_periods=1).mean()\n",
    "df[\"roll28\"] = g[\"sales\"].shift(1).rolling(28, min_periods=1).mean()\n",
    "\n",
    "# Select feature columns\n",
    "feat_cols = [\"store\",\"item\",\"dow\",\"is_weekend\",\"month\",\"year\",\"day\",\"quarter\",\n",
    "             \"lag_1\",\"lag_7\",\"lag_14\",\"lag_28\",\"roll7\",\"roll28\"]\n",
    "\n",
    "# Train-validation split\n",
    "df_tr = df[df[\"split\"]==\"train\"].copy()\n",
    "cutoff = pd.Timestamp(\"2017-10-01\")\n",
    "tr_mask = df_tr[\"date\"] < cutoff\n",
    "va_mask = df_tr[\"date\"] >= cutoff\n",
    "\n",
    "X_train = df_tr.loc[tr_mask, feat_cols]\n",
    "y_train = df_tr.loc[tr_mask, \"sales\"]\n",
    "X_val   = df_tr.loc[va_mask, feat_cols]\n",
    "y_val   = df_tr.loc[va_mask, \"sales\"]\n",
    "\n",
    "# Train LightGBM model\n",
    "# Train LightGBM model (Fixed for newer versions)\n",
    "cat_feats = [\"store\",\"item\",\"dow\",\"month\",\"quarter\"]\n",
    "\n",
    "model = LGBMRegressor(\n",
    "    n_estimators=2000,\n",
    "    learning_rate=0.05,\n",
    "    num_leaves=63,\n",
    "    subsample=0.8,\n",
    "    colsample_bytree=0.8,\n",
    "    random_state=42\n",
    ")\n",
    "\n",
    "# Use callbacks to control output instead of 'verbose'\n",
    "from lightgbm import log_evaluation, early_stopping\n",
    "\n",
    "model.fit(\n",
    "    X_train, y_train,\n",
    "    eval_set=[(X_val, y_val)],\n",
    "    eval_metric=\"rmse\",\n",
    "    categorical_feature=cat_feats,\n",
    "    callbacks=[log_evaluation(100)]  # prints evaluation metric every 100 iterations\n",
    "    # or use callbacks=[] to suppress logs entirely\n",
    ")\n",
    "\n",
    "# Evaluate RMSLE\n",
    "val_pred = np.clip(model.predict(X_val), 0, None)\n",
    "rmsle_lgbm = np.sqrt(mean_squared_log_error(y_val, val_pred))\n",
    "print(f\"⚡ LightGBM Validation RMSLE: {rmsle_lgbm:.5f}\")\n",
    "\n"
   ]
  },
  {
   "cell_type": "markdown",
   "id": "a509052e",
   "metadata": {},
   "source": [
    "## Prophet model \n",
    "seasonal foreacting"
   ]
  },
  {
   "cell_type": "code",
   "execution_count": 7,
   "id": "57327d09",
   "metadata": {},
   "outputs": [
    {
     "name": "stderr",
     "output_type": "stream",
     "text": [
      "21:58:08 - cmdstanpy - INFO - Chain [1] start processing\n",
      "21:58:09 - cmdstanpy - INFO - Chain [1] done processing\n"
     ]
    },
    {
     "name": "stdout",
     "output_type": "stream",
     "text": [
      "🔮 Prophet RMSLE (Store 1, Item 1): 0.25857\n"
     ]
    }
   ],
   "source": [
    "# Example: single store-item pair for Prophet\n",
    "store_id, item_id = 1, 1\n",
    "subset = train[(train['store'] == store_id) & (train['item'] == item_id)].copy()\n",
    "\n",
    "# Prophet expects 'ds' and 'y'\n",
    "df_prophet = subset.rename(columns={'date': 'ds', 'sales': 'y'})\n",
    "\n",
    "cutoff_date = pd.Timestamp(\"2017-10-01\")\n",
    "train_p = df_prophet[df_prophet['ds'] < cutoff_date]\n",
    "val_p = df_prophet[df_prophet['ds'] >= cutoff_date]\n",
    "\n",
    "# Fit Prophet\n",
    "m = Prophet(yearly_seasonality=True, weekly_seasonality=True, daily_seasonality=False)\n",
    "m.fit(train_p)\n",
    "\n",
    "# Forecast\n",
    "future = val_p[['ds']]\n",
    "forecast = m.predict(future)\n",
    "\n",
    "# Evaluate RMSLE\n",
    "y_true = val_p['y'].values\n",
    "y_pred = np.clip(forecast['yhat'].values, 0, None)\n",
    "rmsle_prophet = np.sqrt(mean_squared_log_error(y_true, y_pred))\n",
    "\n",
    "print(f\"🔮 Prophet RMSLE (Store {store_id}, Item {item_id}): {rmsle_prophet:.5f}\")\n"
   ]
  },
  {
   "cell_type": "markdown",
   "id": "ef8bc4d7",
   "metadata": {},
   "source": [
    "# Comparison"
   ]
  },
  {
   "cell_type": "code",
   "execution_count": 8,
   "id": "c1d777e3",
   "metadata": {},
   "outputs": [
    {
     "data": {
      "text/html": [
       "<div>\n",
       "<style scoped>\n",
       "    .dataframe tbody tr th:only-of-type {\n",
       "        vertical-align: middle;\n",
       "    }\n",
       "\n",
       "    .dataframe tbody tr th {\n",
       "        vertical-align: top;\n",
       "    }\n",
       "\n",
       "    .dataframe thead th {\n",
       "        text-align: right;\n",
       "    }\n",
       "</style>\n",
       "<table border=\"1\" class=\"dataframe\">\n",
       "  <thead>\n",
       "    <tr style=\"text-align: right;\">\n",
       "      <th></th>\n",
       "      <th>Model</th>\n",
       "      <th>RMSLE</th>\n",
       "    </tr>\n",
       "  </thead>\n",
       "  <tbody>\n",
       "    <tr>\n",
       "      <th>1</th>\n",
       "      <td>LightGBM</td>\n",
       "      <td>0.157864</td>\n",
       "    </tr>\n",
       "    <tr>\n",
       "      <th>0</th>\n",
       "      <td>Baseline (Mean)</td>\n",
       "      <td>0.242734</td>\n",
       "    </tr>\n",
       "    <tr>\n",
       "      <th>2</th>\n",
       "      <td>Prophet</td>\n",
       "      <td>0.258571</td>\n",
       "    </tr>\n",
       "  </tbody>\n",
       "</table>\n",
       "</div>"
      ],
      "text/plain": [
       "             Model     RMSLE\n",
       "1         LightGBM  0.157864\n",
       "0  Baseline (Mean)  0.242734\n",
       "2          Prophet  0.258571"
      ]
     },
     "metadata": {},
     "output_type": "display_data"
    },
    {
     "data": {
      "image/png": "[encoded data removed]",
      "text/plain": [
       "<Figure size 800x400 with 1 Axes>"
      ]
     },
     "metadata": {},
     "output_type": "display_data"
    }
   ],
   "source": [
    "# Collect results\n",
    "results = {\n",
    "    \"Model\": [\"Baseline (Mean)\", \"LightGBM\", \"Prophet\"],\n",
    "    \"RMSLE\": [rmsle_baseline, rmsle_lgbm, rmsle_prophet]\n",
    "}\n",
    "\n",
    "results_df = pd.DataFrame(results).sort_values(\"RMSLE\")\n",
    "display(results_df)\n",
    "\n",
    "# Plot comparison\n",
    "plt.figure(figsize=(8,4))\n",
    "sns.barplot(x=\"Model\", y=\"RMSLE\", data=results_df, palette=\"viridis\")\n",
    "plt.title(\"Model Comparison - RMSLE (Lower is Better)\")\n",
    "plt.ylabel(\"RMSLE\")\n",
    "plt.grid(True, axis='y', linestyle='--', alpha=0.7)\n",
    "plt.show()\n"
   ]
  },
  {
   "cell_type": "markdown",
   "id": "04e3525e",
   "metadata": {},
   "source": [
    "# Save best model"
   ]
  },
  {
   "cell_type": "code",
   "execution_count": 9,
   "id": "5f4fcbdf",
   "metadata": {},
   "outputs": [
    {
     "name": "stdout",
     "output_type": "stream",
     "text": [
      "✅ Best Model (LightGBM) saved as lgbm_demand_model.pkl\n"
     ]
    }
   ],
   "source": [
    "import joblib\n",
    "joblib.dump(model, \"lgbm_demand_model.pkl\")\n",
    "print(\"✅ Best Model (LightGBM) saved as lgbm_demand_model.pkl\")\n"
   ]
  },
  {
   "cell_type": "code",
   "execution_count": 10,
   "id": "064d40e8",
   "metadata": {},
   "outputs": [
    {
     "name": "stdout",
     "output_type": "stream",
     "text": [
      "📋 Observations:\n",
      "- Baseline Model RMSLE: 0.243 → simple average, no temporal learning\n",
      "- LightGBM RMSLE: 0.158 → strong improvement via lag & calendar features\n",
      "- Prophet RMSLE: 0.259 → captures seasonality but less reactive to sharp changes\n",
      "\n",
      "✅ LightGBM selected as the best model for integration with Inventory Simulation (EOQ + ROP).\n"
     ]
    }
   ],
   "source": [
    "print(\"📋 Observations:\")\n",
    "print(f\"- Baseline Model RMSLE: {rmsle_baseline:.3f} → simple average, no temporal learning\")\n",
    "print(f\"- LightGBM RMSLE: {rmsle_lgbm:.3f} → strong improvement via lag & calendar features\")\n",
    "print(f\"- Prophet RMSLE: {rmsle_prophet:.3f} → captures seasonality but less reactive to sharp changes\")\n",
    "\n",
    "print(\"\\n✅ LightGBM selected as the best model for integration with Inventory Simulation (EOQ + ROP).\")\n"
   ]
  }
 ],
 "metadata": {
  "kernelspec": {
   "display_name": "Python 3",
   "language": "python",
   "name": "python3"
  },
  "language_info": {
   "codemirror_mode": {
    "name": "ipython",
    "version": 3
   },
   "file_extension": ".py",
   "mimetype": "text/x-python",
   "name": "python",
   "nbconvert_exporter": "python",
   "pygments_lexer": "ipython3",
   "version": "3.12.1"
  }
 },
 "nbformat": 4,
 "nbformat_minor": 5
}

{
 "cells": [
  {
   "cell_type": "markdown",
   "id": "707d521e",
   "metadata": {},
   "source": [
    "# Multi-SKU Inventory Simulation Integration\n",
    "loops through every (store, item) combination in  forecast.csv, simulates EOQ + ROP inventory control, and outputs a summary table."
   ]
  },
  {
   "cell_type": "code",
   "execution_count": 2,
   "id": "d4d9c2db",
   "metadata": {},
   "outputs": [],
   "source": [
    "import numpy as np\n",
    "import pandas as pd\n",
    "import matplotlib.pyplot as plt"
   ]
  },
  {
   "cell_type": "code",
   "execution_count": 3,
   "id": "ad8800c1",
   "metadata": {},
   "outputs": [],
   "source": [
    "forecast_df = pd.read_csv(\n",
    "    r'C:\\Users\\kvjai\\ML PROJECTS\\Store items demand forecasting\\data\\forecast.csv',\n",
    "    parse_dates=['date'],\n",
    "    dayfirst=True\n",
    ")\n",
    "\n",
    "# Ensure correct types\n",
    "forecast_df['store'] = forecast_df['store'].astype(int)\n",
    "forecast_df['item'] = forecast_df['item'].astype(int)\n",
    "forecast_df = forecast_df.sort_values(['store', 'item', 'date']).reset_index(drop=True)"
   ]
  },
  {
   "cell_type": "code",
   "execution_count": 4,
   "id": "fef8b7bd",
   "metadata": {},
   "outputs": [],
   "source": [
    "ordering_cost = 20     # S: cost per order\n",
    "holding_cost = 50      # H: holding cost per unit per year\n",
    "lead_time = 7          # days\n",
    "z = 1.65               # service level (95%)\n",
    "max_days_to_order = 90 # cap EOQ (optional)"
   ]
  },
  {
   "cell_type": "code",
   "execution_count": 5,
   "id": "dd06698e",
   "metadata": {},
   "outputs": [],
   "source": [
    "# Results collector\n",
    "summary_records = []\n"
   ]
  },
  {
   "cell_type": "markdown",
   "id": "d2fc0984",
   "metadata": {},
   "source": [
    "# Simulate for each (store, item)"
   ]
  },
  {
   "cell_type": "code",
   "execution_count": null,
   "id": "f90b6adc",
   "metadata": {},
   "outputs": [],
   "source": [
    "\n",
    "for (store_id, item_id), group in forecast_df.groupby(['store', 'item']):\n",
    "    subset = group.copy().sort_values('date').reset_index(drop=True)\n",
    "\n",
    "    # --- Demand statistics ---\n",
    "    avg_daily_demand = subset['sales'].mean()\n",
    "    std_daily_demand = subset['sales'].std(ddof=1)\n",
    "    annual_demand = avg_daily_demand * 365\n",
    "\n",
    "    # --- EOQ & ROP calculations ---\n",
    "    EOQ = np.sqrt((2 * annual_demand * ordering_cost) / holding_cost)\n",
    "    EOQ = min(EOQ, avg_daily_demand * max_days_to_order)\n",
    "    safety_stock = z * std_daily_demand * np.sqrt(lead_time)\n",
    "    ROP = avg_daily_demand * lead_time + safety_stock\n",
    "\n",
    "    initial_stock = int(ROP + EOQ / 2)\n",
    "    stock = initial_stock\n",
    "    order_outstanding = False\n",
    "    arrival_index = None\n",
    "\n",
    "    inventory_levels = []\n",
    "    reorder_flags = []\n",
    "    stockout_days = 0\n",
    "    orders_placed = []\n",
    "\n",
    "    # --- Simulation loop ---\n",
    "    for i, row in subset.iterrows():\n",
    "        # Receive order if it arrives today\n",
    "        if order_outstanding and arrival_index == i:\n",
    "            stock += EOQ\n",
    "            order_outstanding = False\n",
    "            arrival_index = None\n",
    "\n",
    "        # Deduct sales (demand)\n",
    "        stock -= row['sales']\n",
    "\n",
    "        # Stockout check\n",
    "        if stock < 0:\n",
    "            stockout_days += 1\n",
    "            stock = 0  # no negative stock\n",
    "\n",
    "        # Reorder condition\n",
    "        if (stock <= ROP) and (not order_outstanding):\n",
    "            arrival_idx = i + lead_time\n",
    "            orders_placed.append((i, row['date'], int(EOQ), arrival_idx))\n",
    "            order_outstanding = True\n",
    "            arrival_index = arrival_idx\n",
    "            reorder_flags.append(1)\n",
    "        else:\n",
    "            reorder_flags.append(0)\n",
    "\n",
    "        inventory_levels.append(stock)\n",
    "\n",
    "    # Attach results to subset (optional for visualization)\n",
    "    subset['inventory_level'] = inventory_levels\n",
    "    subset['reorder'] = reorder_flags\n",
    "\n",
    "    # --- Performance metrics ---\n",
    "    total_orders = len(orders_placed)\n",
    "    avg_inventory = np.mean(inventory_levels)\n",
    "    horizon_days = len(subset)\n",
    "    service_level = 1 - (stockout_days / horizon_days)\n",
    "    \n",
    "    # --- Record summary ---\n",
    "    summary_records.append({\n",
    "        \"Store\": store_id,\n",
    "        \"Item\": item_id,\n",
    "        \"EOQ\": round(EOQ, 2),\n",
    "        \"ROP\": round(ROP, 2),\n",
    "        \"Avg Inventory\": round(avg_inventory, 2),\n",
    "        \"Orders Placed\": total_orders,\n",
    "        \"Stockout Days\": stockout_days,\n",
    "        \"Service Level\": round(service_level, 4)\n",
    "    })"
   ]
  },
  {
   "cell_type": "markdown",
   "id": "cb826c73",
   "metadata": {},
   "source": [
    "# Summary Table"
   ]
  },
  {
   "cell_type": "code",
   "execution_count": null,
   "id": "ad0e1b2b",
   "metadata": {},
   "outputs": [
    {
     "name": "stdout",
     "output_type": "stream",
     "text": [
      "Inventory Simulation Summary:\n"
     ]
    },
    {
     "data": {
      "text/html": [
       "<div>\n",
       "<style scoped>\n",
       "    .dataframe tbody tr th:only-of-type {\n",
       "        vertical-align: middle;\n",
       "    }\n",
       "\n",
       "    .dataframe tbody tr th {\n",
       "        vertical-align: top;\n",
       "    }\n",
       "\n",
       "    .dataframe thead th {\n",
       "        text-align: right;\n",
       "    }\n",
       "</style>\n",
       "<table border=\"1\" class=\"dataframe\">\n",
       "  <thead>\n",
       "    <tr style=\"text-align: right;\">\n",
       "      <th></th>\n",
       "      <th>Store</th>\n",
       "      <th>Item</th>\n",
       "      <th>EOQ</th>\n",
       "      <th>ROP</th>\n",
       "      <th>Avg Inventory</th>\n",
       "      <th>Orders Placed</th>\n",
       "      <th>Stockout Days</th>\n",
       "      <th>Service Level</th>\n",
       "    </tr>\n",
       "  </thead>\n",
       "  <tbody>\n",
       "    <tr>\n",
       "      <th>0</th>\n",
       "      <td>1</td>\n",
       "      <td>1</td>\n",
       "      <td>77.70</td>\n",
       "      <td>174.13</td>\n",
       "      <td>49.08</td>\n",
       "      <td>13</td>\n",
       "      <td>36</td>\n",
       "      <td>0.6000</td>\n",
       "    </tr>\n",
       "    <tr>\n",
       "      <th>1</th>\n",
       "      <td>1</td>\n",
       "      <td>2</td>\n",
       "      <td>109.57</td>\n",
       "      <td>315.95</td>\n",
       "      <td>27.99</td>\n",
       "      <td>13</td>\n",
       "      <td>56</td>\n",
       "      <td>0.3778</td>\n",
       "    </tr>\n",
       "    <tr>\n",
       "      <th>2</th>\n",
       "      <td>1</td>\n",
       "      <td>3</td>\n",
       "      <td>92.22</td>\n",
       "      <td>223.33</td>\n",
       "      <td>30.28</td>\n",
       "      <td>13</td>\n",
       "      <td>45</td>\n",
       "      <td>0.5000</td>\n",
       "    </tr>\n",
       "    <tr>\n",
       "      <th>3</th>\n",
       "      <td>1</td>\n",
       "      <td>4</td>\n",
       "      <td>102.98</td>\n",
       "      <td>277.44</td>\n",
       "      <td>28.02</td>\n",
       "      <td>13</td>\n",
       "      <td>52</td>\n",
       "      <td>0.4222</td>\n",
       "    </tr>\n",
       "    <tr>\n",
       "      <th>4</th>\n",
       "      <td>1</td>\n",
       "      <td>5</td>\n",
       "      <td>77.68</td>\n",
       "      <td>173.98</td>\n",
       "      <td>47.88</td>\n",
       "      <td>13</td>\n",
       "      <td>36</td>\n",
       "      <td>0.6000</td>\n",
       "    </tr>\n",
       "    <tr>\n",
       "      <th>5</th>\n",
       "      <td>1</td>\n",
       "      <td>6</td>\n",
       "      <td>86.62</td>\n",
       "      <td>204.63</td>\n",
       "      <td>34.87</td>\n",
       "      <td>13</td>\n",
       "      <td>42</td>\n",
       "      <td>0.5333</td>\n",
       "    </tr>\n",
       "    <tr>\n",
       "      <th>6</th>\n",
       "      <td>1</td>\n",
       "      <td>7</td>\n",
       "      <td>124.74</td>\n",
       "      <td>418.98</td>\n",
       "      <td>30.31</td>\n",
       "      <td>13</td>\n",
       "      <td>60</td>\n",
       "      <td>0.3333</td>\n",
       "    </tr>\n",
       "    <tr>\n",
       "      <th>7</th>\n",
       "      <td>1</td>\n",
       "      <td>8</td>\n",
       "      <td>103.19</td>\n",
       "      <td>277.62</td>\n",
       "      <td>27.39</td>\n",
       "      <td>13</td>\n",
       "      <td>53</td>\n",
       "      <td>0.4111</td>\n",
       "    </tr>\n",
       "    <tr>\n",
       "      <th>8</th>\n",
       "      <td>1</td>\n",
       "      <td>9</td>\n",
       "      <td>115.97</td>\n",
       "      <td>359.07</td>\n",
       "      <td>28.60</td>\n",
       "      <td>13</td>\n",
       "      <td>60</td>\n",
       "      <td>0.3333</td>\n",
       "    </tr>\n",
       "    <tr>\n",
       "      <th>9</th>\n",
       "      <td>1</td>\n",
       "      <td>10</td>\n",
       "      <td>86.39</td>\n",
       "      <td>203.53</td>\n",
       "      <td>34.04</td>\n",
       "      <td>13</td>\n",
       "      <td>43</td>\n",
       "      <td>0.5222</td>\n",
       "    </tr>\n",
       "  </tbody>\n",
       "</table>\n",
       "</div>"
      ],
      "text/plain": [
       "   Store  Item     EOQ     ROP  Avg Inventory  Orders Placed  Stockout Days  \\\n",
       "0      1     1   77.70  174.13          49.08             13             36   \n",
       "1      1     2  109.57  315.95          27.99             13             56   \n",
       "2      1     3   92.22  223.33          30.28             13             45   \n",
       "3      1     4  102.98  277.44          28.02             13             52   \n",
       "4      1     5   77.68  173.98          47.88             13             36   \n",
       "5      1     6   86.62  204.63          34.87             13             42   \n",
       "6      1     7  124.74  418.98          30.31             13             60   \n",
       "7      1     8  103.19  277.62          27.39             13             53   \n",
       "8      1     9  115.97  359.07          28.60             13             60   \n",
       "9      1    10   86.39  203.53          34.04             13             43   \n",
       "\n",
       "   Service Level  \n",
       "0         0.6000  \n",
       "1         0.3778  \n",
       "2         0.5000  \n",
       "3         0.4222  \n",
       "4         0.6000  \n",
       "5         0.5333  \n",
       "6         0.3333  \n",
       "7         0.4111  \n",
       "8         0.3333  \n",
       "9         0.5222  "
      ]
     },
     "metadata": {},
     "output_type": "display_data"
    }
   ],
   "source": [
    "summary_df = pd.DataFrame(summary_records)\n",
    "summary_df = summary_df.sort_values([\"Store\", \"Item\"]).reset_index(drop=True)\n",
    "\n",
    "print(\"Inventory Simulation Summary:\")\n",
    "display(summary_df.head(10))"
   ]
  },
  {
   "cell_type": "markdown",
   "id": "4e00a43e",
   "metadata": {},
   "source": [
    "# save results"
   ]
  },
  {
   "cell_type": "code",
   "execution_count": 9,
   "id": "2c136480",
   "metadata": {},
   "outputs": [
    {
     "name": "stdout",
     "output_type": "stream",
     "text": [
      "✅ Inventory summary saved as inventory_summary.csv\n"
     ]
    }
   ],
   "source": [
    "summary_df.to_csv(\n",
    "    r'C:\\Users\\kvjai\\ML PROJECTS\\Store items demand forecasting\\data\\inventory_summary.csv',\n",
    "    index=False\n",
    ")\n",
    "print(\"✅ Inventory summary saved as inventory_summary.csv\")"
   ]
  },
  {
   "cell_type": "markdown",
   "id": "11bafaf3",
   "metadata": {},
   "source": [
    "# example viz"
   ]
  },
  {
   "cell_type": "code",
   "execution_count": 10,
   "id": "5cfe1764",
   "metadata": {},
   "outputs": [
    {
     "data": {
      "image/png": "[encoded data removed]",
      "text/plain": [
       "<Figure size 1200x500 with 1 Axes>"
      ]
     },
     "metadata": {},
     "output_type": "display_data"
    }
   ],
   "source": [
    "example = forecast_df[(forecast_df[\"store\"] == 1) & (forecast_df[\"item\"] == 1)].copy()\n",
    "plt.figure(figsize=(12,5))\n",
    "plt.plot(example['date'], example['sales'], label='Forecasted Demand', alpha=0.8)\n",
    "plt.plot(subset['date'], subset['inventory_level'], label='Inventory Level', color='orange', linewidth=2)\n",
    "plt.axhline(ROP, color='red', linestyle='--', label=f'ROP ≈ {ROP:.0f}')\n",
    "plt.title(f\"Inventory Simulation (Store {store_id}, Item {item_id})\")\n",
    "plt.xlabel(\"Date\")\n",
    "plt.ylabel(\"Units\")\n",
    "plt.legend()\n",
    "plt.grid(True)\n",
    "plt.show()"
   ]
  }
 ],
 "metadata": {
  "kernelspec": {
   "display_name": "Python 3",
   "language": "python",
   "name": "python3"
  },
  "language_info": {
   "codemirror_mode": {
    "name": "ipython",
    "version": 3
   },
   "file_extension": ".py",
   "mimetype": "text/x-python",
   "name": "python",
   "nbconvert_exporter": "python",
   "pygments_lexer": "ipython3",
   "version": "3.12.1"
  }
 },
 "nbformat": 4,
 "nbformat_minor": 5
}

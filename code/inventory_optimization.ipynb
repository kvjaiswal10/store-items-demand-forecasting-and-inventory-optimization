{
 "cells": [
  {
   "cell_type": "markdown",
   "id": "477ca6c4",
   "metadata": {},
   "source": [
    "# Inventory Control\n",
    "\n",
    "Step 1: EOQ: Economic Order Quantity\n",
    "\n",
    "- EOQ tells us the optimal lot size to order that minimizes costs.\n",
    "\n",
    "\n",
    "Step 2: ROP: Reorder Point\n",
    "\n",
    "- ROP tells us when to reorder before stockouts happen."
   ]
  },
  {
   "cell_type": "code",
   "execution_count": 5,
   "id": "91f20437",
   "metadata": {},
   "outputs": [],
   "source": [
    "import numpy as np\n",
    "import pandas as pd\n",
    "import matplotlib.pyplot as plt"
   ]
  },
  {
   "cell_type": "code",
   "execution_count": 40,
   "id": "7b1c35f2",
   "metadata": {},
   "outputs": [],
   "source": [
    "forecast_df = pd.read_csv(r'C:\\Users\\kvjai\\ML PROJECTS\\Store items demand forecasting\\data\\forecast.csv', parse_dates=['date'], dayfirst=True)"
   ]
  },
  {
   "cell_type": "code",
   "execution_count": 4,
   "id": "75731757",
   "metadata": {},
   "outputs": [
    {
     "data": {
      "text/html": [
       "<div>\n",
       "<style scoped>\n",
       "    .dataframe tbody tr th:only-of-type {\n",
       "        vertical-align: middle;\n",
       "    }\n",
       "\n",
       "    .dataframe tbody tr th {\n",
       "        vertical-align: top;\n",
       "    }\n",
       "\n",
       "    .dataframe thead th {\n",
       "        text-align: right;\n",
       "    }\n",
       "</style>\n",
       "<table border=\"1\" class=\"dataframe\">\n",
       "  <thead>\n",
       "    <tr style=\"text-align: right;\">\n",
       "      <th></th>\n",
       "      <th>id</th>\n",
       "      <th>date</th>\n",
       "      <th>store</th>\n",
       "      <th>item</th>\n",
       "      <th>sales</th>\n",
       "    </tr>\n",
       "  </thead>\n",
       "  <tbody>\n",
       "    <tr>\n",
       "      <th>0</th>\n",
       "      <td>0</td>\n",
       "      <td>01-01-2018</td>\n",
       "      <td>1</td>\n",
       "      <td>1</td>\n",
       "      <td>12.199787</td>\n",
       "    </tr>\n",
       "    <tr>\n",
       "      <th>1</th>\n",
       "      <td>1</td>\n",
       "      <td>02-01-2018</td>\n",
       "      <td>1</td>\n",
       "      <td>1</td>\n",
       "      <td>12.050390</td>\n",
       "    </tr>\n",
       "    <tr>\n",
       "      <th>2</th>\n",
       "      <td>2</td>\n",
       "      <td>03-01-2018</td>\n",
       "      <td>1</td>\n",
       "      <td>1</td>\n",
       "      <td>12.402985</td>\n",
       "    </tr>\n",
       "    <tr>\n",
       "      <th>3</th>\n",
       "      <td>3</td>\n",
       "      <td>04-01-2018</td>\n",
       "      <td>1</td>\n",
       "      <td>1</td>\n",
       "      <td>13.604758</td>\n",
       "    </tr>\n",
       "    <tr>\n",
       "      <th>4</th>\n",
       "      <td>4</td>\n",
       "      <td>05-01-2018</td>\n",
       "      <td>1</td>\n",
       "      <td>1</td>\n",
       "      <td>14.364701</td>\n",
       "    </tr>\n",
       "  </tbody>\n",
       "</table>\n",
       "</div>"
      ],
      "text/plain": [
       "   id        date  store  item      sales\n",
       "0   0  01-01-2018      1     1  12.199787\n",
       "1   1  02-01-2018      1     1  12.050390\n",
       "2   2  03-01-2018      1     1  12.402985\n",
       "3   3  04-01-2018      1     1  13.604758\n",
       "4   4  05-01-2018      1     1  14.364701"
      ]
     },
     "execution_count": 4,
     "metadata": {},
     "output_type": "execute_result"
    }
   ],
   "source": [
    "forecast_df.head()"
   ]
  },
  {
   "cell_type": "markdown",
   "id": "20f5d095",
   "metadata": {},
   "source": [
    "Select a specific Store + Item SKU (so we optimize per SKU)."
   ]
  },
  {
   "cell_type": "code",
   "execution_count": 65,
   "id": "d3743336",
   "metadata": {},
   "outputs": [],
   "source": [
    "# Select SKU\n",
    "store_id, item_id = 1, 1\n",
    "subset = forecast_df[(forecast_df['store']==store_id) & (forecast_df['item']==item_id)].copy()\n",
    "subset = subset.sort_values('date').reset_index(drop=True)"
   ]
  },
  {
   "cell_type": "markdown",
   "id": "b90c7188",
   "metadata": {},
   "source": [
    "avg_daily_demand: average sales per day (used for EOQ & ROP).\n",
    "\n",
    "std_daily_demand: standard deviation of daily demand (used for safety stock).\n",
    "\n",
    "annual_demand: scales demand up to 1 year for EOQ calculations."
   ]
  },
  {
   "cell_type": "code",
   "execution_count": 66,
   "id": "3aa96807",
   "metadata": {},
   "outputs": [],
   "source": [
    "# Demand stats\n",
    "avg_daily_demand = subset['sales'].mean()\n",
    "std_daily_demand = subset['sales'].std(ddof=1)\n",
    "annual_demand = avg_daily_demand * 365"
   ]
  },
  {
   "cell_type": "markdown",
   "id": "245641b3",
   "metadata": {},
   "source": [
    "S = ordering cost (fixed cost every time you order).\n",
    "\n",
    "H = holding cost (per unit per year → discourages very large orders).\n",
    "\n",
    "Lead time = how many days until replenishment arrives.\n",
    "\n",
    "z = controls service level: higher z means less stockouts but more inventory."
   ]
  },
  {
   "cell_type": "code",
   "execution_count": null,
   "id": "65da1c26",
   "metadata": {},
   "outputs": [],
   "source": [
    "# Inventory economics (tuned)\n",
    "ordering_cost = 20     # S\n",
    "holding_cost = 50      # H (per unit per year)\n",
    "lead_time = 7          # days\n",
    "z = 1.65               # service level for safety stock\n"
   ]
  },
  {
   "cell_type": "markdown",
   "id": "b9d82b46",
   "metadata": {},
   "source": [
    "EOQ (Economic Order Quantity): optimal order size minimizing cost tradeoff.\n",
    "\n",
    "Safety stock: extra buffer depending on demand volatility.\n",
    "\n",
    "ROP (Reorder Point): when inventory hits this, place an order."
   ]
  },
  {
   "cell_type": "code",
   "execution_count": 90,
   "id": "5c1b351f",
   "metadata": {},
   "outputs": [
    {
     "name": "stdout",
     "output_type": "stream",
     "text": [
      "Avg daily demand: 20.68\n",
      "Std daily demand: 6.73\n",
      "EOQ: 78, ROP: 174, initial stock: 212\n"
     ]
    }
   ],
   "source": [
    "# EOQ & ROP (data-driven)\n",
    "EOQ = np.sqrt((2 * annual_demand * ordering_cost) / holding_cost)\n",
    "safety_stock = z * std_daily_demand * np.sqrt(lead_time)\n",
    "ROP = avg_daily_demand * lead_time + safety_stock\n",
    "\n",
    "\"\"\"\n",
    "Limits EOQ to not exceed 90 days’ demand.\n",
    "\n",
    "Starts inventory at a stable level (near ROP + half EOQ).\n",
    "\"\"\"\n",
    "\n",
    "# Cap EOQ so it doesn't become unrealistically huge (optional)\n",
    "max_days_to_order = 90  # at most 90 days of demand\n",
    "EOQ = min(EOQ, avg_daily_demand * max_days_to_order)\n",
    "\n",
    "# Initial stock near steady state\n",
    "initial_stock = int(ROP + EOQ/2)\n",
    "\n",
    "print(f\"Avg daily demand: {avg_daily_demand:.2f}\")\n",
    "print(f\"Std daily demand: {std_daily_demand:.2f}\")\n",
    "print(f\"EOQ: {EOQ:.0f}, ROP: {ROP:.0f}, initial stock: {initial_stock}\")\n",
    "\n",
    "initial_stock = int(2*ROP + EOQ/2)"
   ]
  },
  {
   "cell_type": "markdown",
   "id": "faa492c4",
   "metadata": {},
   "source": [
    "Simulation Loop:\n",
    "\n",
    "Runs day by day.\n",
    "\n",
    "Deducts sales from stock.\n",
    "\n",
    "If stock dips below ROP, places one order (arrives after lead time).\n",
    "\n",
    "Tracks:\n",
    "\n",
    "- inventory_levels (daily stock levels),\n",
    "\n",
    "- reorder_flags (1 if reordered that day),\n",
    "\n",
    "- orders_placed (history of orders)."
   ]
  },
  {
   "cell_type": "code",
   "execution_count": 81,
   "id": "446e5bef",
   "metadata": {},
   "outputs": [],
   "source": [
    "# --- Simulation with lead time & single outstanding order ---\n",
    "inventory_levels = []\n",
    "reorder_flags = []\n",
    "orders_placed = []   # (index, date, qty, arrival_index)\n",
    "\n",
    "stock = initial_stock\n",
    "order_outstanding = False  # True while an outstanding order is on the way\n",
    "arrival_index = None\n",
    "\n",
    "for i, row in subset.iterrows():\n",
    "    # Receive order(s) if they arrive today\n",
    "    if order_outstanding and arrival_index == i:\n",
    "        stock += EOQ\n",
    "        order_outstanding = False\n",
    "        arrival_index = None\n",
    "\n",
    "    # Demand consumes inventory\n",
    "    stock -= row['sales']\n",
    "\n",
    "    # Place order only if stock <= ROP AND there is no outstanding order\n",
    "    if (stock <= ROP) and (not order_outstanding):\n",
    "        # place one order that will arrive after lead_time days\n",
    "        arrival_idx = i + lead_time\n",
    "        # If arrival index beyond horizon, we still schedule it but it won't arrive in plotted horizon\n",
    "        orders_placed.append((i, row['date'], int(EOQ), arrival_idx))\n",
    "        order_outstanding = True\n",
    "        arrival_index = arrival_idx\n",
    "        reorder_flags.append(1)\n",
    "    else:\n",
    "        reorder_flags.append(0)\n",
    "\n",
    "    inventory_levels.append(stock)"
   ]
  },
  {
   "cell_type": "code",
   "execution_count": 93,
   "id": "752b476d",
   "metadata": {},
   "outputs": [
    {
     "name": "stderr",
     "output_type": "stream",
     "text": [
      "C:\\Users\\kvjai\\AppData\\Local\\Temp\\ipykernel_17376\\2120391857.py:2: SettingWithCopyWarning:\n",
      "\n",
      "\n",
      "A value is trying to be set on a copy of a slice from a DataFrame.\n",
      "Try using .loc[row_indexer,col_indexer] = value instead\n",
      "\n",
      "See the caveats in the documentation: https://pandas.pydata.org/pandas-docs/stable/user_guide/indexing.html#returning-a-view-versus-a-copy\n",
      "\n",
      "C:\\Users\\kvjai\\AppData\\Local\\Temp\\ipykernel_17376\\2120391857.py:3: SettingWithCopyWarning:\n",
      "\n",
      "\n",
      "A value is trying to be set on a copy of a slice from a DataFrame.\n",
      "Try using .loc[row_indexer,col_indexer] = value instead\n",
      "\n",
      "See the caveats in the documentation: https://pandas.pydata.org/pandas-docs/stable/user_guide/indexing.html#returning-a-view-versus-a-copy\n",
      "\n"
     ]
    }
   ],
   "source": [
    "# Attach results\n",
    "subset['inventory_level'] = inventory_levels\n",
    "subset['reorder'] = reorder_flags"
   ]
  },
  {
   "cell_type": "code",
   "execution_count": 94,
   "id": "b41b7568",
   "metadata": {},
   "outputs": [
    {
     "data": {
      "image/png": "[encoded data removed]",
      "text/plain": [
       "<Figure size 1200x500 with 1 Axes>"
      ]
     },
     "metadata": {},
     "output_type": "display_data"
    }
   ],
   "source": [
    "# --- Plot (limit window for clarity) ---\n",
    "# choose a plotting window (e.g., first 120 days or full length if short)\n",
    "plot_window = subset  # or subset.iloc[:120]\n",
    "plt.figure(figsize=(12,5))\n",
    "plt.plot(plot_window['date'], plot_window['sales'], label='Forecasted Demand', alpha=0.8)\n",
    "plt.plot(plot_window['date'], plot_window['inventory_level'], label='Inventory Level', color='orange', linewidth=2)\n",
    "plt.axhline(ROP, color='red', linestyle='--', label=f'ROP ≈ {ROP:.0f}')\n",
    "\n",
    "\n",
    "# mark order placements (vertical lines at order date) and arrival (optional)\n",
    "first_label = True\n",
    "for (idx, ord_date, qty, arr_idx) in orders_placed:\n",
    "    plt.axvline(ord_date, color='purple', linestyle=':', alpha=0.6)\n",
    "    # annotate once\n",
    "    if first_label:\n",
    "        plt.text(ord_date, plt.ylim()[1]*0.95, 'Order Placed', rotation=90, va='top', fontsize=8, color='purple')\n",
    "        first_label = False\n",
    "    # also mark arrival if within window\n",
    "    if arr_idx < len(subset):\n",
    "        plt.scatter(subset.loc[arr_idx, 'date'], subset.loc[arr_idx, 'sales']+ROP*0.05, color='green', s=20)\n",
    "\n",
    "plt.title(f'Inventory Simulation (Store {store_id}, Item {item_id})')\n",
    "plt.xlabel('Date')\n",
    "plt.ylabel('Units')\n",
    "plt.xticks(rotation=45)\n",
    "plt.legend()\n",
    "plt.grid(True)\n",
    "plt.tight_layout()\n",
    "plt.show()"
   ]
  },
  {
   "cell_type": "code",
   "execution_count": 95,
   "id": "2cac1c7a",
   "metadata": {},
   "outputs": [
    {
     "name": "stdout",
     "output_type": "stream",
     "text": [
      "Total orders placed in horizon: 11\n",
      "Average inventory level: -122.2\n"
     ]
    },
    {
     "data": {
      "text/plain": [
       "'\\nTells you how many orders were placed in the horizon.\\n\\nComputes average inventory (helps calculate holding costs & efficiency).\\n'"
      ]
     },
     "execution_count": 95,
     "metadata": {},
     "output_type": "execute_result"
    }
   ],
   "source": [
    "# --- Summary metrics ---\n",
    "total_orders = len(orders_placed)\n",
    "avg_inventory = np.mean(subset['inventory_level'])\n",
    "print(f\"Total orders placed in horizon: {total_orders}\")\n",
    "print(f\"Average inventory level: {avg_inventory:.1f}\")\n",
    "\n",
    "\"\"\"\n",
    "Tells you how many orders were placed in the horizon.\n",
    "\n",
    "Computes average inventory (helps calculate holding costs & efficiency).\n",
    "\"\"\""
   ]
  },
  {
   "cell_type": "code",
   "execution_count": 96,
   "id": "58a95b78",
   "metadata": {},
   "outputs": [
    {
     "name": "stdout",
     "output_type": "stream",
     "text": [
      "   id       date  store  item      sales   inventory  inventory_level  reorder\n",
      "0   0 2018-01-01      1     1  12.199787  290.049605       374.800213        0\n",
      "1   1 2018-01-02      1     1  12.050390  380.248607       362.749823        0\n",
      "2   2 2018-01-03      1     1  12.402985  367.845622       350.346838        0\n",
      "3   3 2018-01-04      1     1  13.604758  354.240864       336.742080        0\n",
      "4   4 2018-01-05      1     1  14.364701  339.876163       322.377379        0\n"
     ]
    }
   ],
   "source": [
    "print(subset.head())\n",
    "\n",
    "#A reorder column marking reorder days (1 = order placed)."
   ]
  },
  {
   "cell_type": "code",
   "execution_count": 97,
   "id": "0b084f80",
   "metadata": {},
   "outputs": [
    {
     "data": {
      "application/vnd.plotly.v1+json": {
       "config": {
        "plotlyServerURL": "https://plot.ly"
       },
       "data": [
        {
         "hovertemplate": "date=%{x}<br>sales=%{y}<extra></extra>",
         "legendgroup": "",
         "line": {
          "color": "#636efa",
          "dash": "solid"
         },
         "marker": {
          "symbol": "circle"
         },
         "mode": "lines",
         "name": "",
         "orientation": "v",
         "showlegend": false,
         "type": "scatter",
         "x": [
          "2018-01-01T00:00:00",
          "2018-01-02T00:00:00",
          "2018-01-03T00:00:00",
          "2018-01-04T00:00:00",
          "2018-01-05T00:00:00",
          "2018-01-06T00:00:00",
          "2018-01-07T00:00:00",
          "2018-01-08T00:00:00",
          "2018-01-09T00:00:00",
          "2018-01-10T00:00:00",
          "2018-01-11T00:00:00",
          "2018-01-12T00:00:00",
          "2018-01-13T00:00:00",
          "2018-01-14T00:00:00",
          "2018-01-15T00:00:00",
          "2018-01-16T00:00:00",
          "2018-01-17T00:00:00",
          "2018-01-18T00:00:00",
          "2018-01-19T00:00:00",
          "2018-01-20T00:00:00",
          "2018-01-21T00:00:00",
          "2018-01-22T00:00:00",
          "2018-01-23T00:00:00",
          "2018-01-24T00:00:00",
          "2018-01-25T00:00:00",
          "2018-01-26T00:00:00",
          "2018-01-27T00:00:00",
          "2018-01-28T00:00:00",
          "2018-01-29T00:00:00",
          "2018-01-30T00:00:00",
          "2018-01-31T00:00:00",
          "2018-02-01T00:00:00",
          "2018-02-02T00:00:00",
          "2018-02-03T00:00:00",
          "2018-02-04T00:00:00",
          "2018-02-05T00:00:00",
          "2018-02-06T00:00:00",
          "2018-02-07T00:00:00",
          "2018-02-08T00:00:00",
          "2018-02-09T00:00:00",
          "2018-02-10T00:00:00",
          "2018-02-11T00:00:00",
          "2018-02-12T00:00:00",
          "2018-02-13T00:00:00",
          "2018-02-14T00:00:00",
          "2018-02-15T00:00:00",
          "2018-02-16T00:00:00",
          "2018-02-17T00:00:00",
          "2018-02-18T00:00:00",
          "2018-02-19T00:00:00",
          "2018-02-20T00:00:00",
          "2018-02-21T00:00:00",
          "2018-02-22T00:00:00",
          "2018-02-23T00:00:00",
          "2018-02-24T00:00:00",
          "2018-02-25T00:00:00",
          "2018-02-26T00:00:00",
          "2018-02-27T00:00:00",
          "2018-02-28T00:00:00",
          "2018-03-01T00:00:00",
          "2018-03-02T00:00:00",
          "2018-03-03T00:00:00",
          "2018-03-04T00:00:00",
          "2018-03-05T00:00:00",
          "2018-03-06T00:00:00",
          "2018-03-07T00:00:00",
          "2018-03-08T00:00:00",
          "2018-03-09T00:00:00",
          "2018-03-10T00:00:00",
          "2018-03-11T00:00:00",
          "2018-03-12T00:00:00",
          "2018-03-13T00:00:00",
          "2018-03-14T00:00:00",
          "2018-03-15T00:00:00",
          "2018-03-16T00:00:00",
          "2018-03-17T00:00:00",
          "2018-03-18T00:00:00",
          "2018-03-19T00:00:00",
          "2018-03-20T00:00:00",
          "2018-03-21T00:00:00",
          "2018-03-22T00:00:00",
          "2018-03-23T00:00:00",
          "2018-03-24T00:00:00",
          "2018-03-25T00:00:00",
          "2018-03-26T00:00:00",
          "2018-03-27T00:00:00",
          "2018-03-28T00:00:00",
          "2018-03-29T00:00:00",
          "2018-03-30T00:00:00",
          "2018-03-31T00:00:00"
         ],
         "xaxis": "x",
         "y": [
          12.19978693,
          12.05039033,
          12.40298465,
          13.60475795,
          14.364701,
          15.50775057,
          17.11867799,
          9.066779474,
          9.807755799,
          10.45860775,
          11.1393769,
          12.97138462,
          13.80782941,
          16.54510481,
          8.695243593,
          9.148297647,
          10.31354233,
          10.83884989,
          12.3926406,
          15.27105041,
          17.50016883,
          8.748550195,
          11.08802004,
          11.06149817,
          13.33249787,
          14.48702035,
          19.64899631,
          20.48664421,
          12.67379998,
          15.06571214,
          15.22384569,
          23.43310298,
          24.8450845,
          26.60159579,
          28.66985758,
          16.56504483,
          20.82261294,
          20.59841228,
          22.49192446,
          24.17754856,
          26.13907246,
          28.46915136,
          16.16280587,
          19.86025271,
          19.73558489,
          22.21116096,
          24.16889739,
          26.25149267,
          28.65870569,
          16.22806914,
          19.96754646,
          19.85438181,
          22.11822424,
          23.86222432,
          25.9502622,
          28.34651003,
          15.96271184,
          19.69053402,
          19.5974374,
          28.33777319,
          29.86131203,
          31.62993064,
          33.32124786,
          21.24181425,
          25.88681131,
          25.38620507,
          26.64724353,
          28.22863064,
          29.91609428,
          32.20172691,
          20.53939904,
          24.6483825,
          24.31791093,
          25.70909789,
          27.39744688,
          29.22924511,
          31.47715679,
          19.92281935,
          24.09089261,
          23.59757536,
          25.13634067,
          26.93292708,
          28.8387785,
          31.22582882,
          19.51511027,
          23.57767809,
          23.2931736,
          24.95713407,
          26.70726868,
          28.57912825
         ],
         "yaxis": "y"
        }
       ],
       "layout": {
        "legend": {
         "tracegroupgap": 0
        },
        "template": {
         "data": {
          "bar": [
           {
            "error_x": {
             "color": "#2a3f5f"
            },
            "error_y": {
             "color": "#2a3f5f"
            },
            "marker": {
             "line": {
              "color": "#E5ECF6",
              "width": 0.5
             },
             "pattern": {
              "fillmode": "overlay",
              "size": 10,
              "solidity": 0.2
             }
            },
            "type": "bar"
           }
          ],
          "barpolar": [
           {
            "marker": {
             "line": {
              "color": "#E5ECF6",
              "width": 0.5
             },
             "pattern": {
              "fillmode": "overlay",
              "size": 10,
              "solidity": 0.2
             }
            },
            "type": "barpolar"
           }
          ],
          "carpet": [
           {
            "aaxis": {
             "endlinecolor": "#2a3f5f",
             "gridcolor": "white",
             "linecolor": "white",
             "minorgridcolor": "white",
             "startlinecolor": "#2a3f5f"
            },
            "baxis": {
             "endlinecolor": "#2a3f5f",
             "gridcolor": "white",
             "linecolor": "white",
             "minorgridcolor": "white",
             "startlinecolor": "#2a3f5f"
            },
            "type": "carpet"
           }
          ],
          "choropleth": [
           {
            "colorbar": {
             "outlinewidth": 0,
             "ticks": ""
            },
            "type": "choropleth"
           }
          ],
          "contour": [
           {
            "colorbar": {
             "outlinewidth": 0,
             "ticks": ""
            },
            "colorscale": [
             [
              0,
              "#0d0887"
             ],
             [
              0.1111111111111111,
              "#46039f"
             ],
             [
              0.2222222222222222,
              "#7201a8"
             ],
             [
              0.3333333333333333,
              "#9c179e"
             ],
             [
              0.4444444444444444,
              "#bd3786"
             ],
             [
              0.5555555555555556,
              "#d8576b"
             ],
             [
              0.6666666666666666,
              "#ed7953"
             ],
             [
              0.7777777777777778,
              "#fb9f3a"
             ],
             [
              0.8888888888888888,
              "#fdca26"
             ],
             [
              1,
              "#f0f921"
             ]
            ],
            "type": "contour"
           }
          ],
          "contourcarpet": [
           {
            "colorbar": {
             "outlinewidth": 0,
             "ticks": ""
            },
            "type": "contourcarpet"
           }
          ],
          "heatmap": [
           {
            "colorbar": {
             "outlinewidth": 0,
             "ticks": ""
            },
            "colorscale": [
             [
              0,
              "#0d0887"
             ],
             [
              0.1111111111111111,
              "#46039f"
             ],
             [
              0.2222222222222222,
              "#7201a8"
             ],
             [
              0.3333333333333333,
              "#9c179e"
             ],
             [
              0.4444444444444444,
              "#bd3786"
             ],
             [
              0.5555555555555556,
              "#d8576b"
             ],
             [
              0.6666666666666666,
              "#ed7953"
             ],
             [
              0.7777777777777778,
              "#fb9f3a"
             ],
             [
              0.8888888888888888,
              "#fdca26"
             ],
             [
              1,
              "#f0f921"
             ]
            ],
            "type": "heatmap"
           }
          ],
          "heatmapgl": [
           {
            "colorbar": {
             "outlinewidth": 0,
             "ticks": ""
            },
            "colorscale": [
             [
              0,
              "#0d0887"
             ],
             [
              0.1111111111111111,
              "#46039f"
             ],
             [
              0.2222222222222222,
              "#7201a8"
             ],
             [
              0.3333333333333333,
              "#9c179e"
             ],
             [
              0.4444444444444444,
              "#bd3786"
             ],
             [
              0.5555555555555556,
              "#d8576b"
             ],
             [
              0.6666666666666666,
              "#ed7953"
             ],
             [
              0.7777777777777778,
              "#fb9f3a"
             ],
             [
              0.8888888888888888,
              "#fdca26"
             ],
             [
              1,
              "#f0f921"
             ]
            ],
            "type": "heatmapgl"
           }
          ],
          "histogram": [
           {
            "marker": {
             "pattern": {
              "fillmode": "overlay",
              "size": 10,
              "solidity": 0.2
             }
            },
            "type": "histogram"
           }
          ],
          "histogram2d": [
           {
            "colorbar": {
             "outlinewidth": 0,
             "ticks": ""
            },
            "colorscale": [
             [
              0,
              "#0d0887"
             ],
             [
              0.1111111111111111,
              "#46039f"
             ],
             [
              0.2222222222222222,
              "#7201a8"
             ],
             [
              0.3333333333333333,
              "#9c179e"
             ],
             [
              0.4444444444444444,
              "#bd3786"
             ],
             [
              0.5555555555555556,
              "#d8576b"
             ],
             [
              0.6666666666666666,
              "#ed7953"
             ],
             [
              0.7777777777777778,
              "#fb9f3a"
             ],
             [
              0.8888888888888888,
              "#fdca26"
             ],
             [
              1,
              "#f0f921"
             ]
            ],
            "type": "histogram2d"
           }
          ],
          "histogram2dcontour": [
           {
            "colorbar": {
             "outlinewidth": 0,
             "ticks": ""
            },
            "colorscale": [
             [
              0,
              "#0d0887"
             ],
             [
              0.1111111111111111,
              "#46039f"
             ],
             [
              0.2222222222222222,
              "#7201a8"
             ],
             [
              0.3333333333333333,
              "#9c179e"
             ],
             [
              0.4444444444444444,
              "#bd3786"
             ],
             [
              0.5555555555555556,
              "#d8576b"
             ],
             [
              0.6666666666666666,
              "#ed7953"
             ],
             [
              0.7777777777777778,
              "#fb9f3a"
             ],
             [
              0.8888888888888888,
              "#fdca26"
             ],
             [
              1,
              "#f0f921"
             ]
            ],
            "type": "histogram2dcontour"
           }
          ],
          "mesh3d": [
           {
            "colorbar": {
             "outlinewidth": 0,
             "ticks": ""
            },
            "type": "mesh3d"
           }
          ],
          "parcoords": [
           {
            "line": {
             "colorbar": {
              "outlinewidth": 0,
              "ticks": ""
             }
            },
            "type": "parcoords"
           }
          ],
          "pie": [
           {
            "automargin": true,
            "type": "pie"
           }
          ],
          "scatter": [
           {
            "fillpattern": {
             "fillmode": "overlay",
             "size": 10,
             "solidity": 0.2
            },
            "type": "scatter"
           }
          ],
          "scatter3d": [
           {
            "line": {
             "colorbar": {
              "outlinewidth": 0,
              "ticks": ""
             }
            },
            "marker": {
             "colorbar": {
              "outlinewidth": 0,
              "ticks": ""
             }
            },
            "type": "scatter3d"
           }
          ],
          "scattercarpet": [
           {
            "marker": {
             "colorbar": {
              "outlinewidth": 0,
              "ticks": ""
             }
            },
            "type": "scattercarpet"
           }
          ],
          "scattergeo": [
           {
            "marker": {
             "colorbar": {
              "outlinewidth": 0,
              "ticks": ""
             }
            },
            "type": "scattergeo"
           }
          ],
          "scattergl": [
           {
            "marker": {
             "colorbar": {
              "outlinewidth": 0,
              "ticks": ""
             }
            },
            "type": "scattergl"
           }
          ],
          "scattermapbox": [
           {
            "marker": {
             "colorbar": {
              "outlinewidth": 0,
              "ticks": ""
             }
            },
            "type": "scattermapbox"
           }
          ],
          "scatterpolar": [
           {
            "marker": {
             "colorbar": {
              "outlinewidth": 0,
              "ticks": ""
             }
            },
            "type": "scatterpolar"
           }
          ],
          "scatterpolargl": [
           {
            "marker": {
             "colorbar": {
              "outlinewidth": 0,
              "ticks": ""
             }
            },
            "type": "scatterpolargl"
           }
          ],
          "scatterternary": [
           {
            "marker": {
             "colorbar": {
              "outlinewidth": 0,
              "ticks": ""
             }
            },
            "type": "scatterternary"
           }
          ],
          "surface": [
           {
            "colorbar": {
             "outlinewidth": 0,
             "ticks": ""
            },
            "colorscale": [
             [
              0,
              "#0d0887"
             ],
             [
              0.1111111111111111,
              "#46039f"
             ],
             [
              0.2222222222222222,
              "#7201a8"
             ],
             [
              0.3333333333333333,
              "#9c179e"
             ],
             [
              0.4444444444444444,
              "#bd3786"
             ],
             [
              0.5555555555555556,
              "#d8576b"
             ],
             [
              0.6666666666666666,
              "#ed7953"
             ],
             [
              0.7777777777777778,
              "#fb9f3a"
             ],
             [
              0.8888888888888888,
              "#fdca26"
             ],
             [
              1,
              "#f0f921"
             ]
            ],
            "type": "surface"
           }
          ],
          "table": [
           {
            "cells": {
             "fill": {
              "color": "#EBF0F8"
             },
             "line": {
              "color": "white"
             }
            },
            "header": {
             "fill": {
              "color": "#C8D4E3"
             },
             "line": {
              "color": "white"
             }
            },
            "type": "table"
           }
          ]
         },
         "layout": {
          "annotationdefaults": {
           "arrowcolor": "#2a3f5f",
           "arrowhead": 0,
           "arrowwidth": 1
          },
          "autotypenumbers": "strict",
          "coloraxis": {
           "colorbar": {
            "outlinewidth": 0,
            "ticks": ""
           }
          },
          "colorscale": {
           "diverging": [
            [
             0,
             "#8e0152"
            ],
            [
             0.1,
             "#c51b7d"
            ],
            [
             0.2,
             "#de77ae"
            ],
            [
             0.3,
             "#f1b6da"
            ],
            [
             0.4,
             "#fde0ef"
            ],
            [
             0.5,
             "#f7f7f7"
            ],
            [
             0.6,
             "#e6f5d0"
            ],
            [
             0.7,
             "#b8e186"
            ],
            [
             0.8,
             "#7fbc41"
            ],
            [
             0.9,
             "#4d9221"
            ],
            [
             1,
             "#276419"
            ]
           ],
           "sequential": [
            [
             0,
             "#0d0887"
            ],
            [
             0.1111111111111111,
             "#46039f"
            ],
            [
             0.2222222222222222,
             "#7201a8"
            ],
            [
             0.3333333333333333,
             "#9c179e"
            ],
            [
             0.4444444444444444,
             "#bd3786"
            ],
            [
             0.5555555555555556,
             "#d8576b"
            ],
            [
             0.6666666666666666,
             "#ed7953"
            ],
            [
             0.7777777777777778,
             "#fb9f3a"
            ],
            [
             0.8888888888888888,
             "#fdca26"
            ],
            [
             1,
             "#f0f921"
            ]
           ],
           "sequentialminus": [
            [
             0,
             "#0d0887"
            ],
            [
             0.1111111111111111,
             "#46039f"
            ],
            [
             0.2222222222222222,
             "#7201a8"
            ],
            [
             0.3333333333333333,
             "#9c179e"
            ],
            [
             0.4444444444444444,
             "#bd3786"
            ],
            [
             0.5555555555555556,
             "#d8576b"
            ],
            [
             0.6666666666666666,
             "#ed7953"
            ],
            [
             0.7777777777777778,
             "#fb9f3a"
            ],
            [
             0.8888888888888888,
             "#fdca26"
            ],
            [
             1,
             "#f0f921"
            ]
           ]
          },
          "colorway": [
           "#636efa",
           "#EF553B",
           "#00cc96",
           "#ab63fa",
           "#FFA15A",
           "#19d3f3",
           "#FF6692",
           "#B6E880",
           "#FF97FF",
           "#FECB52"
          ],
          "font": {
           "color": "#2a3f5f"
          },
          "geo": {
           "bgcolor": "white",
           "lakecolor": "white",
           "landcolor": "#E5ECF6",
           "showlakes": true,
           "showland": true,
           "subunitcolor": "white"
          },
          "hoverlabel": {
           "align": "left"
          },
          "hovermode": "closest",
          "mapbox": {
           "style": "light"
          },
          "paper_bgcolor": "white",
          "plot_bgcolor": "#E5ECF6",
          "polar": {
           "angularaxis": {
            "gridcolor": "white",
            "linecolor": "white",
            "ticks": ""
           },
           "bgcolor": "#E5ECF6",
           "radialaxis": {
            "gridcolor": "white",
            "linecolor": "white",
            "ticks": ""
           }
          },
          "scene": {
           "xaxis": {
            "backgroundcolor": "#E5ECF6",
            "gridcolor": "white",
            "gridwidth": 2,
            "linecolor": "white",
            "showbackground": true,
            "ticks": "",
            "zerolinecolor": "white"
           },
           "yaxis": {
            "backgroundcolor": "#E5ECF6",
            "gridcolor": "white",
            "gridwidth": 2,
            "linecolor": "white",
            "showbackground": true,
            "ticks": "",
            "zerolinecolor": "white"
           },
           "zaxis": {
            "backgroundcolor": "#E5ECF6",
            "gridcolor": "white",
            "gridwidth": 2,
            "linecolor": "white",
            "showbackground": true,
            "ticks": "",
            "zerolinecolor": "white"
           }
          },
          "shapedefaults": {
           "line": {
            "color": "#2a3f5f"
           }
          },
          "ternary": {
           "aaxis": {
            "gridcolor": "white",
            "linecolor": "white",
            "ticks": ""
           },
           "baxis": {
            "gridcolor": "white",
            "linecolor": "white",
            "ticks": ""
           },
           "bgcolor": "#E5ECF6",
           "caxis": {
            "gridcolor": "white",
            "linecolor": "white",
            "ticks": ""
           }
          },
          "title": {
           "x": 0.05
          },
          "xaxis": {
           "automargin": true,
           "gridcolor": "white",
           "linecolor": "white",
           "ticks": "",
           "title": {
            "standoff": 15
           },
           "zerolinecolor": "white",
           "zerolinewidth": 2
          },
          "yaxis": {
           "automargin": true,
           "gridcolor": "white",
           "linecolor": "white",
           "ticks": "",
           "title": {
            "standoff": 15
           },
           "zerolinecolor": "white",
           "zerolinewidth": 2
          }
         }
        },
        "title": {
         "text": "Forecasted Sales (Store 1 - Item 1)"
        },
        "xaxis": {
         "anchor": "y",
         "domain": [
          0,
          1
         ],
         "title": {
          "text": "date"
         }
        },
        "yaxis": {
         "anchor": "x",
         "domain": [
          0,
          1
         ],
         "title": {
          "text": "sales"
         }
        }
       }
      }
     },
     "metadata": {},
     "output_type": "display_data"
    }
   ],
   "source": [
    "import plotly.express as px\n",
    "\n",
    "forecast_df['date'] = pd.to_datetime(forecast_df['date'], dayfirst=True)\n",
    "\n",
    "# Example: single store & item\n",
    "subset = forecast_df[(forecast_df['store'] == 1) & (forecast_df['item'] == 1)]\n",
    "\n",
    "fig = px.line(subset, x=\"date\", y=\"sales\", title=\"Forecasted Sales (Store 1 - Item 1)\")\n",
    "fig.show()\n"
   ]
  }
 ],
 "metadata": {
  "kernelspec": {
   "display_name": "Python 3",
   "language": "python",
   "name": "python3"
  },
  "language_info": {
   "codemirror_mode": {
    "name": "ipython",
    "version": 3
   },
   "file_extension": ".py",
   "mimetype": "text/x-python",
   "name": "python",
   "nbconvert_exporter": "python",
   "pygments_lexer": "ipython3",
   "version": "3.12.1"
  }
 },
 "nbformat": 4,
 "nbformat_minor": 5
}
